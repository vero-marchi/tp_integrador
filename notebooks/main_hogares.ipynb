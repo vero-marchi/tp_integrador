{
 "cells": [
  {
   "cell_type": "markdown",
   "id": "b3be34e2",
   "metadata": {},
   "source": [
    "## MAIN DE DATASET HOGARES"
   ]
  },
  {
   "cell_type": "code",
   "execution_count": null,
   "id": "0d8665dc",
   "metadata": {},
   "outputs": [],
   "source": [
    "import sys\n",
    "from pathlib import Path\n",
    "\n",
    "if '../src' not in sys.path:\n",
    "    sys.path.append('../src')\n",
    "    \n",
    "import lectura\n",
    "\n",
    "# Reload: usar para recargar archivo de funciones\n",
    "import importlib\n",
    "importlib.reload(lectura)"
   ]
  },
  {
   "cell_type": "code",
   "execution_count": null,
   "id": "56fdf721",
   "metadata": {},
   "outputs": [],
   "source": [
    "from lectura import leer_archivos, guardar_dataset\n",
    "\n",
    "carpeta_hogares = \"../files/hogares\"\n",
    "csv_combinado = \"../files/hogares_combinado.csv\"\n",
    "\n",
    "hogares_combinados = leer_archivos(carpeta_hogares)\n",
    "\n",
    "guardar_dataset(hogares_combinados, csv_combinado)\n",
    "\n",
    "print(f\"Dataset de hogares combinado guardado como {csv_combinado}\")\n"
   ]
  }
 ],
 "metadata": {
  "kernelspec": {
   "display_name": "venv",
   "language": "python",
   "name": "python3"
  },
  "language_info": {
   "codemirror_mode": {
    "name": "ipython",
    "version": 3
   },
   "file_extension": ".py",
   "mimetype": "text/x-python",
   "name": "python",
   "nbconvert_exporter": "python",
   "pygments_lexer": "ipython3",
   "version": "3.12.9"
  }
 },
 "nbformat": 4,
 "nbformat_minor": 5
}
