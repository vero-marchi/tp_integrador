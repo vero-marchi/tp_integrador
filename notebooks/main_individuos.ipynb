{
 "cells": [
  {
   "cell_type": "markdown",
   "id": "513f97ad",
   "metadata": {},
   "source": [
    "## MAIN DE DATASET INDIVIDUOS"
   ]
  },
  {
   "cell_type": "code",
   "execution_count": 1,
   "id": "41d14dad",
   "metadata": {},
   "outputs": [
    {
     "data": {
      "text/plain": [
       "<module 'lectura' from 'c:\\\\Users\\\\javie\\\\Desktop\\\\INFORMATICA\\\\TallerProyectoENCUESTAR\\\\tp_integrador\\\\notebooks\\\\../src\\\\lectura.py'>"
      ]
     },
     "execution_count": 1,
     "metadata": {},
     "output_type": "execute_result"
    }
   ],
   "source": [
    "import sys\n",
    "from pathlib import Path\n",
    "\n",
    "if '../src' not in sys.path:\n",
    "    sys.path.append('../src')\n",
    "    \n",
    "import lectura\n",
    "\n",
    "# Reload: usar para recargar archivo de funciones\n",
    "import importlib\n",
    "importlib.reload(lectura)"
   ]
  },
  {
   "cell_type": "code",
   "execution_count": 2,
   "id": "d48a6cb6",
   "metadata": {},
   "outputs": [
    {
     "name": "stdout",
     "output_type": "stream",
     "text": [
      "Dataset de individuos combinado guardado como ../files/individuos_combinados.csv\n"
     ]
    }
   ],
   "source": [
    "from lectura import leer_archivos, guardar_dataset\n",
    "\n",
    "carpeta_individuos = \"../files/individuos\"\n",
    "csv_combinado = \"../files/individuos_combinados.csv\"\n",
    "\n",
    "individuos_combinados = leer_archivos(carpeta_individuos)\n",
    "\n",
    "guardar_dataset(individuos_combinados, csv_combinado)\n",
    "\n",
    "print(f\"Dataset de individuos combinado guardado como {csv_combinado}\")"
   ]
  }
 ],
 "metadata": {
  "kernelspec": {
   "display_name": "Python 3",
   "language": "python",
   "name": "python3"
  },
  "language_info": {
   "codemirror_mode": {
    "name": "ipython",
    "version": 3
   },
   "file_extension": ".py",
   "mimetype": "text/x-python",
   "name": "python",
   "nbconvert_exporter": "python",
   "pygments_lexer": "ipython3",
   "version": "3.12.9"
  }
 },
 "nbformat": 4,
 "nbformat_minor": 5
}
